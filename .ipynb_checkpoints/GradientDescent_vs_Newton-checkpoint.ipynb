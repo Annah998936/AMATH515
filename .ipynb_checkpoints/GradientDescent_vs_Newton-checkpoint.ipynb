{
 "cells": [
  {
   "cell_type": "markdown",
   "metadata": {},
   "source": [
    "# Robust Regression: Steepest Descent vs. Newton's Method\n",
    "\n",
    "Consider a simple linear regression problem,\n",
    "\n",
    "$$\n",
    "b_i = x_0 + a_i x_1 + \\epsilon_i, \\quad i = 1,\\ldots,m,\n",
    "$$\n",
    "\n",
    "where $\\epsilon_i \\sim \\mathcal{N}(0, \\sigma^2)$.\n",
    "Follow the first lecture, we could form the optimization problem to try to obtain the intercept $x_0$ and slope $x_1$.\n",
    "\n",
    "\n",
    "$$\n",
    "\\min_{x_0, x_1}~~ \\frac{1}{2\\sigma^2}\\sum_{i=1}^m (b_i - x_0 - x_1a_i)^2 = \\min_x \\frac{1}{2\\sigma^2}\\|b-Ax\\|^2,\n",
    "$$\n",
    "\n",
    "where,\n",
    "\n",
    "$$\n",
    "b = \\begin{bmatrix}\n",
    "b_1 \\\\\n",
    "\\vdots \\\\\n",
    "b_m\n",
    "\\end{bmatrix}, \\quad\n",
    "A = \\begin{bmatrix}\n",
    "1 & a_1 \\\\\n",
    "\\vdots & \\vdots \\\\\n",
    "1 & a_m\n",
    "\\end{bmatrix}, \\quad\n",
    "x = \\begin{bmatrix}\n",
    "x_0 \\\\\n",
    "x_1\n",
    "\\end{bmatrix}.\n",
    "$$"
   ]
  },
  {
   "cell_type": "code",
   "execution_count": 20,
   "metadata": {},
   "outputs": [],
   "source": [
    "import numpy as np\n",
    "import matplotlib.pyplot as plt"
   ]
  },
  {
   "cell_type": "markdown",
   "metadata": {},
   "source": [
    "## Create data"
   ]
  },
  {
   "cell_type": "code",
   "execution_count": 23,
   "metadata": {},
   "outputs": [],
   "source": [
    "np.random.seed(345)\n",
    "#\n",
    "m = 10\n",
    "n = 2\n",
    "s1 = 0.1\n",
    "s2 = 10.0\n",
    "#\n",
    "a = np.linspace(1.0, 10.0, m)\n",
    "A = np.hstack((np.ones((m,1)), a.reshape(m,1)))\n",
    "x = np.random.randn(2)\n",
    "e = s1*np.random.randn(m)\n",
    "e[-1] += s2                         # add an outlier \n",
    "#\n",
    "b = A.dot(x) + e"
   ]
  },
  {
   "cell_type": "code",
   "execution_count": 24,
   "metadata": {},
   "outputs": [
    {
     "data": {
      "text/plain": [
       "Text(0.5, 1.0, 'linear regression data with outliers')"
      ]
     },
     "execution_count": 24,
     "metadata": {},
     "output_type": "execute_result"
    },
    {
     "data": {
      "image/png": "[encoded data removed]",
      "text/plain": [
       "<Figure size 432x288 with 1 Axes>"
      ]
     },
     "metadata": {
      "needs_background": "light"
     },
     "output_type": "display_data"
    }
   ],
   "source": [
    "# plot the data\n",
    "plt.plot(a, b, 'o')\n",
    "plt.title('linear regression data with outliers')"
   ]
  },
  {
   "cell_type": "markdown",
   "metadata": {},
   "source": [
    "## Linear regression\n",
    "\n",
    "We have a closed form solution for the linear regression problem: taking the gradient and setting it equal to $0$, we get \n",
    "\n",
    "$$\n",
    "A^\\top A x = A^\\top b\n",
    "$$\n",
    "\n",
    "We can solve this system of linear equations to get the solution $x^*$. Let's see how the solution behaves when we have an outlier. "
   ]
  },
  {
   "cell_type": "code",
   "execution_count": 25,
   "metadata": {},
   "outputs": [],
   "source": [
    "ATA = A.T.dot(A)\n",
    "ATb = A.T.dot(b)\n",
    "#\n",
    "x_ls = np.linalg.solve(ATA, ATb)       # least squares solution\n",
    "b_ls = A.dot(x_ls)                     # predicted data using the least squares solution"
   ]
  },
  {
   "cell_type": "code",
   "execution_count": 26,
   "metadata": {},
   "outputs": [
    {
     "data": {
      "text/plain": [
       "Text(0.5, 1.0, 'linear regression solution')"
      ]
     },
     "execution_count": 26,
     "metadata": {},
     "output_type": "execute_result"
    },
    {
     "data": {
      "image/png": "[encoded data removed]",
      "text/plain": [
       "<Figure size 432x288 with 1 Axes>"
      ]
     },
     "metadata": {
      "needs_background": "light"
     },
     "output_type": "display_data"
    }
   ],
   "source": [
    "# plot the result\n",
    "plt.plot(a, b, 'o')\n",
    "plt.plot(a, b_ls)\n",
    "plt.title('linear regression solution')"
   ]
  },
  {
   "cell_type": "markdown",
   "metadata": {},
   "source": [
    "## Student's t penalty\n",
    "\n",
    "In order to deal with outlier, we introduce [Student's t](https://en.wikipedia.org/wiki/Student%27s_t-distribution) penalty. The Student's t penalty generalizes the Cauchy distribution, as we will see below. \n",
    "\n",
    "* Gaussian (least square): $\\frac{1}{2}r_i^2$\n",
    "\n",
    "* Student's t: $\\ln(1 + r_i^2/\\nu)$\n",
    "\n",
    "* Cauchy distribution: take $\\nu=1$. \n",
    "\n",
    "Denote $r = A x - y$ as the residual. Using the Student's t penalty our optimization problem becomes,\n",
    "\n",
    "$$\n",
    "\\min_x~~F(b - Ax):= \\sum_{i=1}^m f(r_i) = \\sum_{i=1}^m \\ln(1 + r_i^2/\\nu), \\quad \\text{s.t.}~~r = b-Ax.\n",
    "$$"
   ]
  },
  {
   "cell_type": "code",
   "execution_count": 27,
   "metadata": {},
   "outputs": [],
   "source": [
    "nu = 1.0\n",
    "z = np.linspace(-4.5, 4.5, 401)\n",
    "b_gaussian = 0.5*z**2\n",
    "b_gaussian_influence = z                      # the `influence' is the derivative of the objective function\n",
    "b_studentt = np.log(1.0 + z**2/nu)             \n",
    "b_studentt_influence = (2*z/nu)/(1.0 + z**2/nu) #influence of student's t is *decreasing* like 1/z when z large"
   ]
  },
  {
   "cell_type": "code",
   "execution_count": 28,
   "metadata": {},
   "outputs": [
    {
     "data": {
      "text/plain": [
       "Text(0.5, 1.0, \"Gaussian vs Student's t\")"
      ]
     },
     "execution_count": 28,
     "metadata": {},
     "output_type": "execute_result"
    },
    {
     "data": {
      "image/png": "[encoded data removed]",
      "text/plain": [
       "<Figure size 432x288 with 1 Axes>"
      ]
     },
     "metadata": {
      "needs_background": "light"
     },
     "output_type": "display_data"
    }
   ],
   "source": [
    "plt.plot(z, b_gaussian)\n",
    "plt.plot(z, b_studentt)\n",
    "plt.legend(['gaussian', 'student\\'s t: function values'])\n",
    "plt.title('Gaussian vs Student\\'s t')"
   ]
  },
  {
   "cell_type": "code",
   "execution_count": 29,
   "metadata": {},
   "outputs": [
    {
     "data": {
      "text/plain": [
       "Text(0.5, 1.0, \"Gaussian vs Student's t\")"
      ]
     },
     "execution_count": 29,
     "metadata": {},
     "output_type": "execute_result"
    },
    {
     "data": {
      "image/png": "[encoded data removed]",
      "text/plain": [
       "<Figure size 432x288 with 1 Axes>"
      ]
     },
     "metadata": {
      "needs_background": "light"
     },
     "output_type": "display_data"
    }
   ],
   "source": [
    "plt.plot(z, b_gaussian_influence)\n",
    "plt.plot(z, b_studentt_influence)\n",
    "plt.legend(['gaussian', 'student\\'s t: influence of residuals on fit'])\n",
    "plt.title('Gaussian vs Student\\'s t')"
   ]
  },
  {
   "cell_type": "markdown",
   "metadata": {},
   "source": [
    "## Gradient descent on Student's t regression\n",
    "\n",
    "In contrast to the Gaussian regression, there is no closed form solution. We will come back to the optimization details later on; for now, we just focus on the big idea. The lines below compute a step length that ensures gradient descent will converge. We'll understand this soon enough. \n"
   ]
  },
  {
   "cell_type": "markdown",
   "metadata": {},
   "source": [
    "First we need to resolve the step size problem, is the objective $\\beta$ smooth, or should we use line search?\n",
    "Fortunately, it is $\\beta$ smooth, to see this we calculate the gradient and Hessian of the stduent's t function.\n",
    "$$\n",
    "f'(r_i) = \\frac{2 r_i}{\\nu + r_i^2}, \\quad f''(r_i) = \\frac{2(\\nu - r_i^2)}{(\\nu + r_i^2)^2}.\n",
    "$$\n",
    "And we could see that,\n",
    "$$\n",
    "f''(r_i) \\le \\frac{2}{\\nu}.\n",
    "$$\n",
    "From the chain rule we have,\n",
    "$$\n",
    "\\nabla^2 F(Ax - y) = A^\\top \\nabla^2 F(r) A ~~\\Rightarrow~~ \\|\\nabla^2 F(Ax - y)\\| \\le \\frac{2}{\\nu}\\|A\\|^2.\n",
    "$$\n",
    "and we could set $\\beta = \\frac{2}{\\nu}\\|A\\|^2$."
   ]
  },
  {
   "cell_type": "code",
   "execution_count": 52,
   "metadata": {},
   "outputs": [],
   "source": [
    "# define all the functions\n",
    "def stRFunc(r):\n",
    "    return np.sum(np.log(1.0 + r**2/nu))\n",
    "#\n",
    "def stRGrad(r):\n",
    "    return 2.0*r/(nu + r**2)\n",
    "#\n",
    "def stRHess(r):\n",
    "#    return 2.0*(nu - r**2)/(nu + r**2)**2  #(true hessian)\n",
    "    return 2.0/(nu + r**2)   # (my hessian approximation)\n",
    "\n",
    "def stFunc(x):\n",
    "    r = A.dot(x)-b \n",
    "    return stRFunc(r)\n",
    "#\n",
    "def stGrad(x):\n",
    "    r = A.dot(x)-b\n",
    "    return A.T.dot(stRGrad(r))\n",
    "#\n",
    "def stHess(x):\n",
    "    r = A.dot(x)-b\n",
    "    return A.T.dot(np.diag(stRHess(r)).dot(A))"
   ]
  },
  {
   "cell_type": "code",
   "execution_count": 53,
   "metadata": {},
   "outputs": [
    {
     "name": "stdout",
     "output_type": "stream",
     "text": [
      "iter   200, obj 6.58e+00, err 2.58e+00\n",
      "iter   400, obj 5.32e+00, err 1.77e+00\n",
      "iter   600, obj 4.87e+00, err 9.04e-01\n",
      "iter   800, obj 4.77e+00, err 3.99e-01\n",
      "iter  1000, obj 4.75e+00, err 1.67e-01\n",
      "iter  1200, obj 4.74e+00, err 6.94e-02\n",
      "iter  1400, obj 4.74e+00, err 2.86e-02\n",
      "iter  1600, obj 4.74e+00, err 1.18e-02\n",
      "iter  1800, obj 4.74e+00, err 4.84e-03\n",
      "iter  2000, obj 4.74e+00, err 1.99e-03\n",
      "iter  2200, obj 4.74e+00, err 8.18e-04\n",
      "iter  2400, obj 4.74e+00, err 3.36e-04\n",
      "iter  2600, obj 4.74e+00, err 1.38e-04\n",
      "iter  2800, obj 4.74e+00, err 5.68e-05\n",
      "iter  3000, obj 4.74e+00, err 2.33e-05\n",
      "iter  3200, obj 4.74e+00, err 9.59e-06\n",
      "iter  3400, obj 4.74e+00, err 3.94e-06\n",
      "iter  3600, obj 4.74e+00, err 1.62e-06\n"
     ]
    }
   ],
   "source": [
    "# gradient descent\n",
    "beta = 2.0/nu*np.linalg.norm(A)**2\n",
    "\n",
    "# initial guess\n",
    "x_st_gd = np.zeros(n)\n",
    "g_st_gd = stGrad(x_st_gd)\n",
    "\n",
    "tol = 1e-6\n",
    "max_iter = 5000\n",
    "print_per_iter = 200\n",
    "\n",
    "err = np.linalg.norm(g_st_gd)\n",
    "iter_count = 0\n",
    "\n",
    "\n",
    "while err >= tol:\n",
    "    # gradient step\n",
    "    x_st_gd = x_st_gd - 1.0/beta*g_st_gd\n",
    "    #\n",
    "    g_st_gd = stGrad(x_st_gd)\n",
    "    err = np.linalg.norm(g_st_gd)\n",
    "    obj = stFunc(x_st_gd)\n",
    "    #\n",
    "    iter_count += 1\n",
    "    if iter_count % print_per_iter == 0:\n",
    "        print('iter %5d, obj %8.2e, err %8.2e' % (iter_count, obj, err))\n",
    "    #\n",
    "    if iter_count >= max_iter:\n",
    "        break"
   ]
  },
  {
   "cell_type": "markdown",
   "metadata": {},
   "source": [
    "## Newton's method on Student's t regression\n",
    "\n",
    "Newton's method converges much faster."
   ]
  },
  {
   "cell_type": "code",
   "execution_count": 54,
   "metadata": {},
   "outputs": [
    {
     "name": "stdout",
     "output_type": "stream",
     "text": [
      "iter     1, obj 2.21e+01, err 8.40e+00\n",
      "iter     2, obj 2.15e+01, err 7.05e+00\n",
      "iter     3, obj 2.11e+01, err 7.35e+00\n",
      "iter     4, obj 2.06e+01, err 9.35e+00\n",
      "iter     5, obj 1.93e+01, err 1.37e+01\n",
      "iter     6, obj 1.49e+01, err 2.32e+01\n",
      "iter     7, obj 6.02e+00, err 2.64e+01\n",
      "iter     8, obj 4.75e+00, err 1.65e+00\n",
      "iter     9, obj 4.74e+00, err 3.69e-02\n",
      "iter    10, obj 4.74e+00, err 7.34e-04\n",
      "iter    11, obj 4.74e+00, err 1.34e-05\n",
      "iter    12, obj 4.74e+00, err 2.41e-07\n"
     ]
    }
   ],
   "source": [
    "# Newton's method\n",
    "\n",
    "# initial guess\n",
    "x_st_nt = np.zeros(n)\n",
    "\n",
    "g_st_nt = stGrad(x_st_nt)\n",
    "h_st_nt = stHess(x_st_nt)\n",
    "\n",
    "tol = 1e-6\n",
    "max_iter = 1000\n",
    "print_per_iter = 1\n",
    "\n",
    "err = np.linalg.norm(g_st_nt)\n",
    "iter_count = 0\n",
    "\n",
    "while err >= tol:\n",
    "    # newton's step\n",
    "    x_st_nt = x_st_nt - np.linalg.solve(h_st_nt, g_st_nt)\n",
    "    #\n",
    "    g_st_nt = stGrad(x_st_nt)\n",
    "    h_st_nt = stHess(x_st_nt)\n",
    "    err = np.linalg.norm(g_st_nt)\n",
    "    obj = stFunc(x_st_nt)\n",
    "    #\n",
    "    iter_count += 1\n",
    "    if iter_count % print_per_iter == 0:\n",
    "        print('iter %5d, obj %8.2e, err %8.2e' % (iter_count, obj, err))\n",
    "    #\n",
    "    if iter_count >= max_iter:\n",
    "        break"
   ]
  },
  {
   "cell_type": "markdown",
   "metadata": {},
   "source": [
    "# What went wrong?\n",
    "\n",
    "Newton's method certainly minimized the gradient, but it did so by pushing out $x$ to be HUGE which is not helpful at all, and did not decrease the objective.\n",
    "\n",
    "Newton's method is not guaranteed to converge, but we can do a tweak in our algorithm to make sure it actually converges. The tweak is essentially replacing Newton's method with Gauss-Newton's Method. \n",
    "\n"
   ]
  },
  {
   "cell_type": "code",
   "execution_count": 55,
   "metadata": {},
   "outputs": [
    {
     "data": {
      "text/plain": [
       "array([ 1.54453955, -1.16183011])"
      ]
     },
     "execution_count": 55,
     "metadata": {},
     "output_type": "execute_result"
    }
   ],
   "source": [
    "x_st_nt"
   ]
  },
  {
   "cell_type": "markdown",
   "metadata": {},
   "source": [
    "## Result comparison\n",
    "\n",
    "Now let's compare results"
   ]
  },
  {
   "cell_type": "code",
   "execution_count": 56,
   "metadata": {},
   "outputs": [
    {
     "name": "stdout",
     "output_type": "stream",
     "text": [
      "Gradient descent and Newton's method reach the same solution\n"
     ]
    }
   ],
   "source": [
    "diff_gd_nt = np.linalg.norm(x_st_gd - x_st_nt)\n",
    "if diff_gd_nt < 1e-6:\n",
    "    print('Gradient descent and Newton\\'s method reach the same solution')\n",
    "    x_st = x_st_gd\n",
    "else:\n",
    "    print('Oops... something might be wrong with gradient descent or Newton\\'s method' )"
   ]
  },
  {
   "cell_type": "code",
   "execution_count": 57,
   "metadata": {},
   "outputs": [],
   "source": [
    "b_st = A.dot(x_st_nt)"
   ]
  },
  {
   "cell_type": "code",
   "execution_count": 58,
   "metadata": {},
   "outputs": [
    {
     "data": {
      "text/plain": [
       "Text(0.5, 1.0, \"linear vs. student's t\")"
      ]
     },
     "execution_count": 58,
     "metadata": {},
     "output_type": "execute_result"
    },
    {
     "data": {
      "image/png": "[encoded data removed]",
      "text/plain": [
       "<Figure size 432x288 with 1 Axes>"
      ]
     },
     "metadata": {
      "needs_background": "light"
     },
     "output_type": "display_data"
    }
   ],
   "source": [
    "plt.plot(a, b, 'o')\n",
    "plt.plot(a, b_ls)\n",
    "plt.plot(a, b_st)\n",
    "plt.legend(['data','guassian', 'student\\'s t'])\n",
    "plt.title('linear vs. student\\'s t')"
   ]
  },
  {
   "cell_type": "code",
   "execution_count": null,
   "metadata": {},
   "outputs": [],
   "source": []
  }
 ],
 "metadata": {
  "kernelspec": {
   "display_name": "Python 3 (ipykernel)",
   "language": "python",
   "name": "python3"
  },
  "language_info": {
   "codemirror_mode": {
    "name": "ipython",
    "version": 3
   },
   "file_extension": ".py",
   "mimetype": "text/x-python",
   "name": "python",
   "nbconvert_exporter": "python",
   "pygments_lexer": "ipython3",
   "version": "3.8.2"
  }
 },
 "nbformat": 4,
 "nbformat_minor": 2
}
