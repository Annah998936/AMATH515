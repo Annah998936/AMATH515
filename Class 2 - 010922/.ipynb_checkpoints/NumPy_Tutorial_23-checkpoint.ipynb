{
 "cells": [
  {
   "cell_type": "markdown",
   "metadata": {},
   "source": [
    "# AMATH 515 NumPy Tutorial\n",
    "\n",
    "[Python](https://www.python.org) is the programming language will be used in AMATH 515.\n",
    "And for the purpose of this class, we will majorly use it to accomplish scientific computing tasks.\n",
    "[NumPy](https://www.numpy.org) and [SciPy](https://www.scipy.org) are the packages that heavily used in this end.\n",
    "\n",
    "In this tutorial, we will go through some simple examples that demonstrate how to use NumPy on basic linear algebra calculations."
   ]
  },
  {
   "cell_type": "markdown",
   "metadata": {},
   "source": [
    "## Install Python3\n",
    "\n",
    "We highly recommend using the [Anaconda Python distribution](https://www.anaconda.com/download/).\n",
    "Since it creates a separate Python environment that will not mess up with your local Python distribution and it contains all the necessary packages for the use of this class (including [Jupyter Notebook](https://jupyter.org))."
   ]
  },
  {
   "cell_type": "markdown",
   "metadata": {},
   "source": [
    "## Other Resources\n",
    "\n",
    "Due to the length of this tutorial, we will not be able to cover all aspects of Python.\n",
    "Fortunately, as one of the most popular programming languages, there are a lot of resources for learning Python.\n",
    "\n",
    "Here we provide a list of the tutorials, in case you are interested.\n",
    "\n",
    "* [Python For Beginners](https://www.python.org/about/gettingstarted/)\n",
    "* [The Python Tutorial](https://docs.python.org/3/tutorial/)\n",
    "* [NumPy User Guide](https://docs.scipy.org/doc/numpy-1.15.4/user/)\n",
    "* [NumPy Quickstart Tutorial](https://docs.scipy.org/doc/numpy-1.15.4/user/quickstart.html)\n",
    "* [SciPy Tutorial](https://docs.scipy.org/doc/scipy-1.2.0/reference/tutorial/)\n",
    "\n",
    "Major content of this tutorial is extracted from these sites."
   ]
  },
  {
   "cell_type": "markdown",
   "metadata": {},
   "source": [
    "## Python Lists\n",
    "\n",
    "[Lists](https://docs.python.org/3/tutorial/introduction.html#lists) is one of the most important data structures in Python.\n",
    "It contains a list of values (items) that might have different types.\n",
    "\n",
    "For more details about the list relevant function please check [here](https://docs.python.org/3/tutorial/datastructures.html#more-on-lists)."
   ]
  },
  {
   "cell_type": "code",
   "execution_count": 1,
   "metadata": {},
   "outputs": [],
   "source": [
    "# examples\n",
    "x = [1, 2, 3, 4]\n",
    "y = ['a', 'b', 'c', 'd']\n",
    "z = [1, 'a', 2, 'b', 3]\n",
    "M = [[1, 2, 3], [4, 5, 6], [7, 8, 9]]"
   ]
  },
  {
   "cell_type": "code",
   "execution_count": 2,
   "metadata": {},
   "outputs": [
    {
     "data": {
      "text/plain": [
       "[[1, 2, 3], [4, 5, 6], [7, 8, 9]]"
      ]
     },
     "execution_count": 2,
     "metadata": {},
     "output_type": "execute_result"
    }
   ],
   "source": [
    "M"
   ]
  },
  {
   "cell_type": "code",
   "execution_count": 3,
   "metadata": {},
   "outputs": [],
   "source": [
    "M = [[1, 2, 3], [4, 5, 6], [7, 8, 9,10]]"
   ]
  },
  {
   "cell_type": "code",
   "execution_count": 4,
   "metadata": {},
   "outputs": [
    {
     "data": {
      "text/plain": [
       "[[1, 2, 3], [4, 5, 6], [7, 8, 9, 10]]"
      ]
     },
     "execution_count": 4,
     "metadata": {},
     "output_type": "execute_result"
    }
   ],
   "source": [
    "M"
   ]
  },
  {
   "cell_type": "markdown",
   "metadata": {},
   "source": [
    "### 1. Python is a object oriented language"
   ]
  },
  {
   "cell_type": "code",
   "execution_count": 5,
   "metadata": {},
   "outputs": [
    {
     "name": "stdout",
     "output_type": "stream",
     "text": [
      "[1, 2, 3, 4, 5]\n"
     ]
    }
   ],
   "source": [
    "# . means belonging to\n",
    "x.append(5)\n",
    "print(x)"
   ]
  },
  {
   "cell_type": "code",
   "execution_count": 6,
   "metadata": {},
   "outputs": [
    {
     "name": "stdout",
     "output_type": "stream",
     "text": [
      "[1, 1, 2, 3, 4, 5]\n"
     ]
    }
   ],
   "source": [
    "x.insert(0, 1)\n",
    "print(x)"
   ]
  },
  {
   "cell_type": "code",
   "execution_count": 7,
   "metadata": {},
   "outputs": [
    {
     "data": {
      "text/plain": [
       "6"
      ]
     },
     "execution_count": 7,
     "metadata": {},
     "output_type": "execute_result"
    }
   ],
   "source": [
    "# other functions (operations) can be used on list\n",
    "len(x)"
   ]
  },
  {
   "cell_type": "markdown",
   "metadata": {},
   "source": [
    "Adding lists together appends"
   ]
  },
  {
   "cell_type": "code",
   "execution_count": 8,
   "metadata": {},
   "outputs": [
    {
     "name": "stdout",
     "output_type": "stream",
     "text": [
      "[1, 1, 2, 3, 4, 5, 'a', 'b', 'c', 'd']\n"
     ]
    }
   ],
   "source": [
    "print(x + y)"
   ]
  },
  {
   "cell_type": "code",
   "execution_count": 9,
   "metadata": {},
   "outputs": [
    {
     "name": "stdout",
     "output_type": "stream",
     "text": [
      "[1, 1, 2, 3, 4, 5, 1, 1, 2, 3, 4, 5]\n"
     ]
    }
   ],
   "source": [
    "print(x*2)"
   ]
  },
  {
   "cell_type": "markdown",
   "metadata": {},
   "source": [
    "### 2. List indexing and slicing"
   ]
  },
  {
   "cell_type": "code",
   "execution_count": 10,
   "metadata": {},
   "outputs": [
    {
     "name": "stdout",
     "output_type": "stream",
     "text": [
      "1\n",
      "5\n"
     ]
    }
   ],
   "source": [
    "# index start from 0\n",
    "print(x[0])\n",
    "# index of last element can be refer as -1\n",
    "print(x[-1])"
   ]
  },
  {
   "cell_type": "code",
   "execution_count": 11,
   "metadata": {},
   "outputs": [
    {
     "name": "stdout",
     "output_type": "stream",
     "text": [
      "1\n",
      "1\n",
      "4\n",
      "9\n",
      "16\n",
      "25\n"
     ]
    }
   ],
   "source": [
    "# looping over every element in x\n",
    "x2 = []\n",
    "for i in range(len(x)):\n",
    "    x2.append(x[i]**2)\n",
    "    print(x2[i])"
   ]
  },
  {
   "cell_type": "code",
   "execution_count": 12,
   "metadata": {},
   "outputs": [
    {
     "name": "stdout",
     "output_type": "stream",
     "text": [
      "[1, 1]\n",
      "[1, 1]\n",
      "[2, 3, 4, 5]\n"
     ]
    }
   ],
   "source": [
    "# slice of list\n",
    "print(x[0:2])\n",
    "print(x[:2])\n",
    "print(x[2:])"
   ]
  },
  {
   "cell_type": "code",
   "execution_count": 13,
   "metadata": {},
   "outputs": [
    {
     "name": "stdout",
     "output_type": "stream",
     "text": [
      "[1, 2, 4]\n",
      "[5, 3, 1]\n",
      "[1, 1, 2, 3, 4, 5]\n",
      "[5, 4, 3, 2, 1, 1]\n"
     ]
    }
   ],
   "source": [
    "print(x[0:-1:2])\n",
    "print(x[-1:0:-2])\n",
    "print(x[::1])\n",
    "print(x[::-1])"
   ]
  },
  {
   "cell_type": "code",
   "execution_count": 14,
   "metadata": {},
   "outputs": [
    {
     "data": {
      "text/plain": [
       "[1, 1, 2, 3, 4, 5]"
      ]
     },
     "execution_count": 14,
     "metadata": {},
     "output_type": "execute_result"
    }
   ],
   "source": [
    "x"
   ]
  },
  {
   "cell_type": "markdown",
   "metadata": {},
   "source": [
    "## NumPy Array"
   ]
  },
  {
   "cell_type": "code",
   "execution_count": 15,
   "metadata": {},
   "outputs": [],
   "source": [
    "# import numpy package\n",
    "import numpy as np"
   ]
  },
  {
   "cell_type": "markdown",
   "metadata": {},
   "source": [
    "### 1. Array Creation"
   ]
  },
  {
   "cell_type": "code",
   "execution_count": 16,
   "metadata": {},
   "outputs": [
    {
     "name": "stdout",
     "output_type": "stream",
     "text": [
      "x =  [0 1 2 3 4 5]\n",
      "y =  [0 1 2 3 4 5]\n",
      "X =  [[0 1 2]\n",
      " [3 4 5]]\n"
     ]
    }
   ],
   "source": [
    "# manually\n",
    "x = np.array([0, 1, 2, 3, 4, 5])\n",
    "X = np.array([[0, 1, 2], [3, 4, 5]])\n",
    "y = np.arange(6)\n",
    "print('x = ', x)\n",
    "print('y = ', y)\n",
    "print('X = ', X)"
   ]
  },
  {
   "cell_type": "code",
   "execution_count": 17,
   "metadata": {},
   "outputs": [
    {
     "name": "stdout",
     "output_type": "stream",
     "text": [
      "x =  [0. 0. 0. 0. 0.]\n",
      "y =  [1. 1. 1. 1. 1.]\n",
      "X =  [[0. 0. 0. 0. 0.]\n",
      " [0. 0. 0. 0. 0.]\n",
      " [0. 0. 0. 0. 0.]]\n",
      "Y =  [[1. 1. 1. 1. 1.]\n",
      " [1. 1. 1. 1. 1.]\n",
      " [1. 1. 1. 1. 1.]]\n"
     ]
    }
   ],
   "source": [
    "# zeros and ones\n",
    "x = np.zeros(5)\n",
    "y = np.ones(5)\n",
    "X = np.zeros((3,5))\n",
    "Y = np.ones((3,5))\n",
    "print('x = ', x)\n",
    "print('y = ', y)\n",
    "print('X = ', X)\n",
    "print('Y = ', Y)"
   ]
  },
  {
   "cell_type": "code",
   "execution_count": 18,
   "metadata": {},
   "outputs": [
    {
     "name": "stdout",
     "output_type": "stream",
     "text": [
      "x =  [-0.31633748 -1.62264655 -0.04092182 -0.20716514  1.77127653]\n",
      "y =  [0.67266446 0.64704823 0.73435721 0.62278699 0.31767748]\n",
      "X =  [[-0.4343827   0.13920724  0.22511793 -0.25501331  1.56993233]\n",
      " [ 1.32270134 -0.08967304  0.81217795  1.00311428  0.31330095]\n",
      " [-2.2889609  -1.24027633  1.95393579 -0.82122203  0.60643079]]\n",
      "Y =  [[0.92024895 0.82217111 0.9009075  0.40847654 0.1351076 ]\n",
      " [0.24001199 0.43717586 0.52754453 0.68748182 0.87939145]\n",
      " [0.271792   0.22937392 0.89733008 0.90371186 0.61430829]]\n"
     ]
    }
   ],
   "source": [
    "# random vector\n",
    "x = np.random.randn(5)\n",
    "y = np.random.rand(5)\n",
    "X = np.random.randn(3,5)\n",
    "Y = np.random.rand(3,5)\n",
    "print('x = ', x)\n",
    "print('y = ', y)\n",
    "print('X = ', X)\n",
    "print('Y = ', Y)"
   ]
  },
  {
   "cell_type": "markdown",
   "metadata": {},
   "source": [
    "### 2. Size, shape and data type"
   ]
  },
  {
   "cell_type": "code",
   "execution_count": 19,
   "metadata": {},
   "outputs": [
    {
     "name": "stdout",
     "output_type": "stream",
     "text": [
      "size of x:  210\n",
      "shape of x:  (5, 6, 7)\n",
      "num of dimensions of x:  3\n"
     ]
    }
   ],
   "source": [
    "x = np.zeros((5,6,7))\n",
    "print('size of x: ', x.size)\n",
    "print('shape of x: ', x.shape)\n",
    "print('num of dimensions of x: ', x.ndim)"
   ]
  },
  {
   "cell_type": "code",
   "execution_count": 20,
   "metadata": {},
   "outputs": [
    {
     "name": "stdout",
     "output_type": "stream",
     "text": [
      "dtype of x:  float64\n",
      "dtype of y:  int64\n"
     ]
    }
   ],
   "source": [
    "x = np.ones(3)\n",
    "y = np.array([1, 2, 3])\n",
    "print('dtype of x: ', x.dtype)\n",
    "print('dtype of y: ', y.dtype)"
   ]
  },
  {
   "cell_type": "markdown",
   "metadata": {},
   "source": [
    "### 3. Elementwise operations"
   ]
  },
  {
   "cell_type": "code",
   "execution_count": 21,
   "metadata": {},
   "outputs": [],
   "source": [
    "x = np.arange(3, dtype=np.float64)\n",
    "y = np.ones(3)"
   ]
  },
  {
   "cell_type": "code",
   "execution_count": 22,
   "metadata": {},
   "outputs": [
    {
     "name": "stdout",
     "output_type": "stream",
     "text": [
      "2*x =  [0. 2. 4.]\n",
      "x - 1 =  [-1.  0.  1.]\n"
     ]
    }
   ],
   "source": [
    "print('2*x = ', 2*x)\n",
    "print('x - 1 = ', x - 1.0)"
   ]
  },
  {
   "cell_type": "code",
   "execution_count": 23,
   "metadata": {},
   "outputs": [
    {
     "name": "stdout",
     "output_type": "stream",
     "text": [
      "x + y =  [1. 2. 3.]\n",
      "x - y =  [-1.  0.  1.]\n",
      "x*y =  [0. 1. 2.]\n",
      "x/y =  [0. 1. 2.]\n"
     ]
    }
   ],
   "source": [
    "print('x + y = ', x + y)\n",
    "print('x - y = ', x - y)\n",
    "print('x*y = ', x*y)\n",
    "print('x/y = ', x/y)"
   ]
  },
  {
   "cell_type": "code",
   "execution_count": 24,
   "metadata": {},
   "outputs": [
    {
     "name": "stdout",
     "output_type": "stream",
     "text": [
      "x**2 =  [0. 1. 4.]\n",
      "sin(x) =  [0.         0.84147098 0.90929743]\n",
      "sqrt(x) =  [0.         1.         1.41421356]\n"
     ]
    }
   ],
   "source": [
    "print('x**2 = ', x**2)\n",
    "print('sin(x) = ', np.sin(x))\n",
    "print('sqrt(x) = ', np.sqrt(x))"
   ]
  },
  {
   "cell_type": "markdown",
   "metadata": {},
   "source": [
    "### 4. Vector and matrix operation"
   ]
  },
  {
   "cell_type": "code",
   "execution_count": 25,
   "metadata": {},
   "outputs": [],
   "source": [
    "x = np.random.randn(2)\n",
    "y = np.random.randn(3)\n",
    "A = np.random.randn(3,2)\n",
    "B = np.random.randn(2,3)"
   ]
  },
  {
   "cell_type": "code",
   "execution_count": 26,
   "metadata": {},
   "outputs": [
    {
     "name": "stdout",
     "output_type": "stream",
     "text": [
      "x.x =  0.2982248502724828\n",
      "x.x =  0.2982248502724828\n",
      "x.x =  0.2982248502724828\n"
     ]
    }
   ],
   "source": [
    "# vector vector dot product\n",
    "print('x.x = ', x.dot(x))\n",
    "print('x.x = ', x @ x)\n",
    "print('x.x = ', np.sum(x*x))"
   ]
  },
  {
   "cell_type": "code",
   "execution_count": 27,
   "metadata": {},
   "outputs": [
    {
     "name": "stdout",
     "output_type": "stream",
     "text": [
      "Ax =  [ 0.59543629 -0.40068993  0.11759815]\n",
      "Ax =  [ 0.59543629 -0.40068993  0.11759815]\n",
      "BTx =  [ 0.27234274 -0.45418587 -0.29099415]\n"
     ]
    }
   ],
   "source": [
    "# vector matrix dot product\n",
    "print('Ax = ', A.dot(x))\n",
    "print('Ax = ', A @ x)\n",
    "print('BTx = ', B.T.dot(x))"
   ]
  },
  {
   "cell_type": "code",
   "execution_count": 28,
   "metadata": {},
   "outputs": [
    {
     "name": "stdout",
     "output_type": "stream",
     "text": [
      "AB =  [[ 0.36588107 -2.25558665 -2.53106983]\n",
      " [-0.3653864   0.61424585  0.39677162]\n",
      " [ 0.12891225 -0.01592257  0.12117618]]\n",
      "AB =  [[ 0.36588107 -2.25558665 -2.53106983]\n",
      " [-0.3653864   0.61424585  0.39677162]\n",
      " [ 0.12891225 -0.01592257  0.12117618]]\n",
      "ATA =  [[ 4.17327075 -0.27437699]\n",
      " [-0.27437699  0.466224  ]]\n"
     ]
    }
   ],
   "source": [
    "# matrix matrix dot product\n",
    "print('AB = ', A.dot(B))\n",
    "print('AB = ', A @ B)\n",
    "print('ATA = ', A.T.dot(A))"
   ]
  },
  {
   "cell_type": "code",
   "execution_count": 29,
   "metadata": {},
   "outputs": [
    {
     "data": {
      "text/plain": [
       "array([[ 0.36588107, -2.25558665, -2.53106983],\n",
       "       [-0.3653864 ,  0.61424585,  0.39677162],\n",
       "       [ 0.12891225, -0.01592257,  0.12117618]])"
      ]
     },
     "execution_count": 29,
     "metadata": {},
     "output_type": "execute_result"
    }
   ],
   "source": [
    "np.matmul(A,B)"
   ]
  },
  {
   "cell_type": "markdown",
   "metadata": {},
   "source": [
    "### 5. Indexing and Slicing"
   ]
  },
  {
   "cell_type": "code",
   "execution_count": 30,
   "metadata": {},
   "outputs": [
    {
     "name": "stdout",
     "output_type": "stream",
     "text": [
      "sub matrix:  [[1. 0. 0.]\n",
      " [0. 1. 0.]\n",
      " [0. 0. 1.]]\n",
      "first column:  [1. 0. 0. 0. 0.]\n",
      "first row:  [1. 0. 0. 0. 0.]\n"
     ]
    }
   ],
   "source": [
    "# very similar to python list, but providing convenient interface for matrix (tensor)\n",
    "X = np.eye(5)\n",
    "print('sub matrix: ', X[2:5, 2:5])\n",
    "print('first column: ', X[:,0])\n",
    "print('first row: ', X[0])"
   ]
  },
  {
   "cell_type": "markdown",
   "metadata": {},
   "source": [
    "### 6. Shape manipulation"
   ]
  },
  {
   "cell_type": "code",
   "execution_count": 31,
   "metadata": {},
   "outputs": [
    {
     "name": "stdout",
     "output_type": "stream",
     "text": [
      "X =  [[0 1 2]\n",
      " [3 4 5]]\n",
      "Y =  [[0 1]\n",
      " [2 3]\n",
      " [4 5]]\n",
      "U =  [[0 1 2 3 4 5]]\n",
      "V =  [[0]\n",
      " [1]\n",
      " [2]\n",
      " [3]\n",
      " [4]\n",
      " [5]]\n",
      "W =  [[0]\n",
      " [1]\n",
      " [2]\n",
      " [3]\n",
      " [4]\n",
      " [5]]\n"
     ]
    }
   ],
   "source": [
    "# reshape\n",
    "x = np.arange(6)\n",
    "X = x.reshape((2,3))\n",
    "Y = x.reshape((3,2))\n",
    "U = x.reshape((1,6))\n",
    "V = x.reshape((6,1))\n",
    "W = x[:,np.newaxis]\n",
    "print('X = ', X)\n",
    "print('Y = ', Y)\n",
    "print('U = ', U)\n",
    "print('V = ', V)\n",
    "print('W = ', W)"
   ]
  },
  {
   "cell_type": "code",
   "execution_count": 32,
   "metadata": {},
   "outputs": [
    {
     "name": "stdout",
     "output_type": "stream",
     "text": [
      "X.flatten =  [0 1 2 3 4 5]\n"
     ]
    }
   ],
   "source": [
    "# flatten multi-dimensitonal array into 1D array\n",
    "print('X.flatten = ', X.flatten())"
   ]
  },
  {
   "cell_type": "code",
   "execution_count": 33,
   "metadata": {},
   "outputs": [
    {
     "name": "stdout",
     "output_type": "stream",
     "text": [
      "[[1. 0. 2. 0.]\n",
      " [0. 1. 0. 2.]\n",
      " [3. 0. 4. 0.]\n",
      " [0. 3. 0. 4.]]\n"
     ]
    }
   ],
   "source": [
    "# block matrix\n",
    "A = np.eye(2)\n",
    "B = np.eye(2)*2\n",
    "C = np.eye(2)*3\n",
    "D = np.eye(2)*4\n",
    "X = np.block([[A, B], [C, D]])\n",
    "print(X)"
   ]
  },
  {
   "cell_type": "code",
   "execution_count": 34,
   "metadata": {},
   "outputs": [
    {
     "name": "stdout",
     "output_type": "stream",
     "text": [
      "[[1]\n",
      " [2]\n",
      " [3]]\n",
      "[[1 2 3]]\n"
     ]
    }
   ],
   "source": [
    "#Column vs row vectors\n",
    "x=np.array([1,2,3])\n",
    "print(x.reshape(-1,1))\n",
    "print(x.reshape(1,-1))\n"
   ]
  },
  {
   "cell_type": "code",
   "execution_count": 35,
   "metadata": {},
   "outputs": [
    {
     "data": {
      "text/plain": [
       "array([1, 2, 3])"
      ]
     },
     "execution_count": 35,
     "metadata": {},
     "output_type": "execute_result"
    }
   ],
   "source": [
    "x"
   ]
  },
  {
   "cell_type": "code",
   "execution_count": 36,
   "metadata": {},
   "outputs": [
    {
     "name": "stdout",
     "output_type": "stream",
     "text": [
      "[14]\n",
      "14\n"
     ]
    }
   ],
   "source": [
    "#This one works\n",
    "print(np.dot(x,x.reshape(-1,1)))\n",
    "#And compare to\n",
    "print(np.dot(x,x))"
   ]
  },
  {
   "cell_type": "code",
   "execution_count": 37,
   "metadata": {},
   "outputs": [
    {
     "ename": "ValueError",
     "evalue": "shapes (3,) and (1,3) not aligned: 3 (dim 0) != 1 (dim 0)",
     "output_type": "error",
     "traceback": [
      "\u001b[0;31m---------------------------------------------------------------------------\u001b[0m",
      "\u001b[0;31mValueError\u001b[0m                                Traceback (most recent call last)",
      "Cell \u001b[0;32mIn[37], line 2\u001b[0m\n\u001b[1;32m      1\u001b[0m \u001b[38;5;66;03m#This one doesn't\u001b[39;00m\n\u001b[0;32m----> 2\u001b[0m \u001b[43mnp\u001b[49m\u001b[38;5;241;43m.\u001b[39;49m\u001b[43mdot\u001b[49m\u001b[43m(\u001b[49m\u001b[43mx\u001b[49m\u001b[43m,\u001b[49m\u001b[43mx\u001b[49m\u001b[38;5;241;43m.\u001b[39;49m\u001b[43mreshape\u001b[49m\u001b[43m(\u001b[49m\u001b[38;5;241;43m1\u001b[39;49m\u001b[43m,\u001b[49m\u001b[38;5;241;43m-\u001b[39;49m\u001b[38;5;241;43m1\u001b[39;49m\u001b[43m)\u001b[49m\u001b[43m)\u001b[49m\n",
      "File \u001b[0;32m<__array_function__ internals>:200\u001b[0m, in \u001b[0;36mdot\u001b[0;34m(*args, **kwargs)\u001b[0m\n",
      "\u001b[0;31mValueError\u001b[0m: shapes (3,) and (1,3) not aligned: 3 (dim 0) != 1 (dim 0)"
     ]
    }
   ],
   "source": [
    "#This one doesn't\n",
    "np.dot(x,x.reshape(1,-1))"
   ]
  },
  {
   "cell_type": "markdown",
   "metadata": {},
   "source": [
    "### 7. Copies and views"
   ]
  },
  {
   "cell_type": "code",
   "execution_count": 38,
   "metadata": {},
   "outputs": [
    {
     "name": "stdout",
     "output_type": "stream",
     "text": [
      "x =  [1. 0. 0. 0. 0. 0.]\n",
      "y =  [1. 0. 0. 0. 0. 0.]\n"
     ]
    }
   ],
   "source": [
    "# can super easily be the source of bugs\n",
    "x = np.zeros(6)\n",
    "y = x\n",
    "y[0] = 1.0\n",
    "print('x = ', x)\n",
    "print('y = ', y)"
   ]
  },
  {
   "cell_type": "code",
   "execution_count": 39,
   "metadata": {},
   "outputs": [
    {
     "name": "stdout",
     "output_type": "stream",
     "text": [
      "x =  [[1. 0. 0.]\n",
      " [0. 0. 0.]]\n"
     ]
    }
   ],
   "source": [
    "y.shape = 2,3\n",
    "print('x = ', x)"
   ]
  },
  {
   "cell_type": "code",
   "execution_count": 40,
   "metadata": {},
   "outputs": [
    {
     "name": "stdout",
     "output_type": "stream",
     "text": [
      "x =  [0. 0. 0. 0. 0.]\n",
      "y =  [1. 0. 0. 0. 0.]\n"
     ]
    }
   ],
   "source": [
    "x = np.zeros(5)\n",
    "y = x.copy()\n",
    "y[0] = 1.0\n",
    "print('x = ', x)\n",
    "print('y = ', y)"
   ]
  },
  {
   "cell_type": "code",
   "execution_count": 41,
   "metadata": {},
   "outputs": [
    {
     "name": "stdout",
     "output_type": "stream",
     "text": [
      "X =  [[1. 0. 0.]\n",
      " [1. 0. 0.]]\n"
     ]
    }
   ],
   "source": [
    "# slicing is a view\n",
    "X = np.zeros((2,3))\n",
    "x0 = X[:,0]\n",
    "x0[:] = 1.0\n",
    "print('X = ', X)"
   ]
  },
  {
   "cell_type": "markdown",
   "metadata": {},
   "source": [
    "### Functions in python\n",
    "Python allows for somewhat functional programming"
   ]
  },
  {
   "cell_type": "code",
   "execution_count": 43,
   "metadata": {},
   "outputs": [
    {
     "name": "stdout",
     "output_type": "stream",
     "text": [
      "9\n"
     ]
    }
   ],
   "source": [
    "def f(x):\n",
    "    return x**2\n",
    "print(f(3))"
   ]
  },
  {
   "cell_type": "markdown",
   "metadata": {},
   "source": [
    "Functions can be inputs or outputs of other functions"
   ]
  },
  {
   "cell_type": "code",
   "execution_count": 44,
   "metadata": {},
   "outputs": [],
   "source": [
    "def double_func(f):\n",
    "    def new_func(x):\n",
    "        return 2*f(x)\n",
    "    return new_func"
   ]
  },
  {
   "cell_type": "code",
   "execution_count": 45,
   "metadata": {},
   "outputs": [
    {
     "name": "stdout",
     "output_type": "stream",
     "text": [
      "18\n"
     ]
    }
   ],
   "source": [
    "g=double_func(f)\n",
    "print(g(3))"
   ]
  },
  {
   "cell_type": "markdown",
   "metadata": {},
   "source": [
    "Breaking up large operations into smaller functions that you can individually test can make things much more manageable!"
   ]
  },
  {
   "cell_type": "code",
   "execution_count": 46,
   "metadata": {},
   "outputs": [],
   "source": [
    "import matplotlib.pyplot as plt"
   ]
  },
  {
   "cell_type": "code",
   "execution_count": 47,
   "metadata": {},
   "outputs": [
    {
     "data": {
      "text/plain": [
       "[<matplotlib.lines.Line2D at 0x10bbe83d0>]"
      ]
     },
     "execution_count": 47,
     "metadata": {},
     "output_type": "execute_result"
    },
    {
     "data": {
      "image/png": "[encoded data removed]",
      "text/plain": [
       "<Figure size 640x480 with 1 Axes>"
      ]
     },
     "metadata": {},
     "output_type": "display_data"
    }
   ],
   "source": [
    "plt.plot([1,2,3,2,1])"
   ]
  },
  {
   "cell_type": "code",
   "execution_count": 48,
   "metadata": {},
   "outputs": [
    {
     "data": {
      "text/plain": [
       "<matplotlib.collections.PathCollection at 0x10bcceb30>"
      ]
     },
     "execution_count": 48,
     "metadata": {},
     "output_type": "execute_result"
    },
    {
     "data": {
      "image/png": "[encoded data removed]",
      "text/plain": [
       "<Figure size 640x480 with 1 Axes>"
      ]
     },
     "metadata": {},
     "output_type": "display_data"
    }
   ],
   "source": [
    "plt.scatter(np.array([1,2,3]),np.array([4,5,1]))"
   ]
  },
  {
   "cell_type": "code",
   "execution_count": null,
   "metadata": {},
   "outputs": [],
   "source": []
  }
 ],
 "metadata": {
  "kernelspec": {
   "display_name": "Python 3 (ipykernel)",
   "language": "python",
   "name": "python3"
  },
  "language_info": {
   "codemirror_mode": {
    "name": "ipython",
    "version": 3
   },
   "file_extension": ".py",
   "mimetype": "text/x-python",
   "name": "python",
   "nbconvert_exporter": "python",
   "pygments_lexer": "ipython3",
   "version": "3.10.9"
  },
  "vscode": {
   "interpreter": {
    "hash": "4305e4dd096d3b07644ed9367958f26f20ce2e59d964c522587ff506aeedb069"
   }
  }
 },
 "nbformat": 4,
 "nbformat_minor": 2
}
